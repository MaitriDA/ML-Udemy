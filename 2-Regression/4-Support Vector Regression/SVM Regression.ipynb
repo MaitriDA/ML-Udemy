{
 "cells": [
  {
   "cell_type": "markdown",
   "id": "dbc2d1a7",
   "metadata": {},
   "source": [
    "# SVM Regression"
   ]
  },
  {
   "cell_type": "markdown",
   "id": "bf6329e8",
   "metadata": {},
   "source": [
    "### Dataset: Salary acc. to Year of experience"
   ]
  },
  {
   "cell_type": "code",
   "execution_count": 1,
   "id": "2db5f64b",
   "metadata": {},
   "outputs": [],
   "source": [
    "import numpy as np\n",
    "import matplotlib.pyplot as plt\n",
    "import pandas as pd"
   ]
  },
  {
   "cell_type": "code",
   "execution_count": 2,
   "id": "c9e16775",
   "metadata": {},
   "outputs": [
    {
     "data": {
      "text/html": [
       "<div>\n",
       "<style scoped>\n",
       "    .dataframe tbody tr th:only-of-type {\n",
       "        vertical-align: middle;\n",
       "    }\n",
       "\n",
       "    .dataframe tbody tr th {\n",
       "        vertical-align: top;\n",
       "    }\n",
       "\n",
       "    .dataframe thead th {\n",
       "        text-align: right;\n",
       "    }\n",
       "</style>\n",
       "<table border=\"1\" class=\"dataframe\">\n",
       "  <thead>\n",
       "    <tr style=\"text-align: right;\">\n",
       "      <th></th>\n",
       "      <th>Level</th>\n",
       "      <th>YearsExperience</th>\n",
       "      <th>Salary</th>\n",
       "    </tr>\n",
       "  </thead>\n",
       "  <tbody>\n",
       "    <tr>\n",
       "      <th>0</th>\n",
       "      <td>1</td>\n",
       "      <td>1.1</td>\n",
       "      <td>39343</td>\n",
       "    </tr>\n",
       "    <tr>\n",
       "      <th>1</th>\n",
       "      <td>2</td>\n",
       "      <td>1.3</td>\n",
       "      <td>46205</td>\n",
       "    </tr>\n",
       "    <tr>\n",
       "      <th>2</th>\n",
       "      <td>3</td>\n",
       "      <td>1.5</td>\n",
       "      <td>37731</td>\n",
       "    </tr>\n",
       "    <tr>\n",
       "      <th>3</th>\n",
       "      <td>4</td>\n",
       "      <td>2.0</td>\n",
       "      <td>43525</td>\n",
       "    </tr>\n",
       "    <tr>\n",
       "      <th>4</th>\n",
       "      <td>5</td>\n",
       "      <td>2.2</td>\n",
       "      <td>39891</td>\n",
       "    </tr>\n",
       "  </tbody>\n",
       "</table>\n",
       "</div>"
      ],
      "text/plain": [
       "   Level  YearsExperience  Salary\n",
       "0      1              1.1   39343\n",
       "1      2              1.3   46205\n",
       "2      3              1.5   37731\n",
       "3      4              2.0   43525\n",
       "4      5              2.2   39891"
      ]
     },
     "execution_count": 2,
     "metadata": {},
     "output_type": "execute_result"
    }
   ],
   "source": [
    "df=pd.read_csv('Salary.csv')\n",
    "df.head()"
   ]
  },
  {
   "cell_type": "code",
   "execution_count": 3,
   "id": "3cd06823",
   "metadata": {},
   "outputs": [],
   "source": [
    "x=df.iloc[:,1:-1].values\n",
    "y=df.iloc[:,-1].values"
   ]
  },
  {
   "cell_type": "code",
   "execution_count": 4,
   "id": "d7165ee1",
   "metadata": {},
   "outputs": [
    {
     "data": {
      "text/plain": [
       "array([[ 1.1],\n",
       "       [ 1.3],\n",
       "       [ 1.5],\n",
       "       [ 2. ],\n",
       "       [ 2.2],\n",
       "       [ 2.9],\n",
       "       [ 3. ],\n",
       "       [ 3.2],\n",
       "       [ 3.2],\n",
       "       [ 3.7],\n",
       "       [ 3.9],\n",
       "       [ 4. ],\n",
       "       [ 4. ],\n",
       "       [ 4.1],\n",
       "       [ 4.5],\n",
       "       [ 4.9],\n",
       "       [ 5.1],\n",
       "       [ 5.3],\n",
       "       [ 5.9],\n",
       "       [ 6. ],\n",
       "       [ 6.8],\n",
       "       [ 7.1],\n",
       "       [ 7.9],\n",
       "       [ 8.2],\n",
       "       [ 8.7],\n",
       "       [ 9. ],\n",
       "       [ 9.5],\n",
       "       [ 9.6],\n",
       "       [10.3],\n",
       "       [10.5],\n",
       "       [11.2],\n",
       "       [11.5],\n",
       "       [12.3],\n",
       "       [12.9],\n",
       "       [13.5]])"
      ]
     },
     "execution_count": 4,
     "metadata": {},
     "output_type": "execute_result"
    }
   ],
   "source": [
    "x_data=x\n",
    "x"
   ]
  },
  {
   "cell_type": "code",
   "execution_count": 5,
   "id": "d7bee643",
   "metadata": {},
   "outputs": [
    {
     "data": {
      "text/plain": [
       "array([[ 39343],\n",
       "       [ 46205],\n",
       "       [ 37731],\n",
       "       [ 43525],\n",
       "       [ 39891],\n",
       "       [ 56642],\n",
       "       [ 60150],\n",
       "       [ 54445],\n",
       "       [ 64445],\n",
       "       [ 57189],\n",
       "       [ 63218],\n",
       "       [ 55794],\n",
       "       [ 56957],\n",
       "       [ 57081],\n",
       "       [ 61111],\n",
       "       [ 67938],\n",
       "       [ 66029],\n",
       "       [ 83088],\n",
       "       [ 81363],\n",
       "       [ 93940],\n",
       "       [ 91738],\n",
       "       [ 98273],\n",
       "       [101302],\n",
       "       [113812],\n",
       "       [109431],\n",
       "       [105582],\n",
       "       [116969],\n",
       "       [112635],\n",
       "       [122391],\n",
       "       [121872],\n",
       "       [127345],\n",
       "       [126756],\n",
       "       [128765],\n",
       "       [135675],\n",
       "       [139465]], dtype=int64)"
      ]
     },
     "execution_count": 5,
     "metadata": {},
     "output_type": "execute_result"
    }
   ],
   "source": [
    "y=y.reshape(len(y),1)\n",
    "y_data=y\n",
    "y"
   ]
  },
  {
   "cell_type": "markdown",
   "id": "c47f6c9d",
   "metadata": {},
   "source": [
    "## Feature Scaling"
   ]
  },
  {
   "cell_type": "code",
   "execution_count": 6,
   "id": "ccf4a562",
   "metadata": {},
   "outputs": [],
   "source": [
    "from sklearn.preprocessing import StandardScaler\n",
    "sc_X = StandardScaler()\n",
    "sc_y = StandardScaler()\n",
    "x = sc_X.fit_transform(x)\n",
    "y = sc_y.fit_transform(y)"
   ]
  },
  {
   "cell_type": "code",
   "execution_count": 7,
   "id": "6d7f4728",
   "metadata": {},
   "outputs": [
    {
     "name": "stdout",
     "output_type": "stream",
     "text": [
      "[[-1.46039873]\n",
      " [-1.40432198]\n",
      " [-1.34824523]\n",
      " [-1.20805336]\n",
      " [-1.15197661]\n",
      " [-0.955708  ]\n",
      " [-0.92766962]\n",
      " [-0.87159288]\n",
      " [-0.87159288]\n",
      " [-0.73140101]\n",
      " [-0.67532426]\n",
      " [-0.64728589]\n",
      " [-0.64728589]\n",
      " [-0.61924751]\n",
      " [-0.50709402]\n",
      " [-0.39494052]\n",
      " [-0.33886377]\n",
      " [-0.28278703]\n",
      " [-0.11455678]\n",
      " [-0.08651841]\n",
      " [ 0.13778858]\n",
      " [ 0.2219037 ]\n",
      " [ 0.44621069]\n",
      " [ 0.53032581]\n",
      " [ 0.67051768]\n",
      " [ 0.7546328 ]\n",
      " [ 0.89482467]\n",
      " [ 0.92286305]\n",
      " [ 1.11913166]\n",
      " [ 1.17520841]\n",
      " [ 1.37147703]\n",
      " [ 1.45559215]\n",
      " [ 1.67989914]\n",
      " [ 1.84812938]\n",
      " [ 2.01635962]]\n"
     ]
    }
   ],
   "source": [
    "print(x)"
   ]
  },
  {
   "cell_type": "code",
   "execution_count": 8,
   "id": "9c74f87e",
   "metadata": {},
   "outputs": [
    {
     "name": "stdout",
     "output_type": "stream",
     "text": [
      "[[-1.40702756]\n",
      " [-1.19055984]\n",
      " [-1.45787949]\n",
      " [-1.27510276]\n",
      " [-1.38974043]\n",
      " [-0.86131566]\n",
      " [-0.75065276]\n",
      " [-0.93062192]\n",
      " [-0.61516328]\n",
      " [-0.84406007]\n",
      " [-0.65387005]\n",
      " [-0.88806655]\n",
      " [-0.85137871]\n",
      " [-0.84746702]\n",
      " [-0.72033719]\n",
      " [-0.50497357]\n",
      " [-0.56519463]\n",
      " [-0.02705373]\n",
      " [-0.08147035]\n",
      " [ 0.31528198]\n",
      " [ 0.24581799]\n",
      " [ 0.45197021]\n",
      " [ 0.54752264]\n",
      " [ 0.9421614 ]\n",
      " [ 0.80395897]\n",
      " [ 0.68253893]\n",
      " [ 1.04175169]\n",
      " [ 0.90503191]\n",
      " [ 1.21279336]\n",
      " [ 1.19642106]\n",
      " [ 1.36907158]\n",
      " [ 1.35049106]\n",
      " [ 1.4138667 ]\n",
      " [ 1.63184862]\n",
      " [ 1.75140745]]\n"
     ]
    }
   ],
   "source": [
    "print(y)"
   ]
  },
  {
   "cell_type": "markdown",
   "id": "d7ee74ee",
   "metadata": {},
   "source": [
    "## Training the model, predicting the accuracy and visualisation"
   ]
  },
  {
   "cell_type": "code",
   "execution_count": 9,
   "id": "bd01ae26",
   "metadata": {},
   "outputs": [],
   "source": [
    "kernel=['linear','rbf','poly']"
   ]
  },
  {
   "cell_type": "code",
   "execution_count": 11,
   "id": "ac66eb6a",
   "metadata": {},
   "outputs": [
    {
     "name": "stdout",
     "output_type": "stream",
     "text": [
      "Accuracy by linear kernel 0.964831424838288\n"
     ]
    },
    {
     "data": {
      "image/png": "[encoded data removed]",
      "text/plain": [
       "<Figure size 432x288 with 1 Axes>"
      ]
     },
     "metadata": {
      "needs_background": "light"
     },
     "output_type": "display_data"
    },
    {
     "name": "stdout",
     "output_type": "stream",
     "text": [
      " \n",
      " \n",
      "Accuracy by rbf kernel 0.9749605087921769\n"
     ]
    },
    {
     "data": {
      "image/png": "[encoded data removed]",
      "text/plain": [
       "<Figure size 432x288 with 1 Axes>"
      ]
     },
     "metadata": {
      "needs_background": "light"
     },
     "output_type": "display_data"
    },
    {
     "name": "stdout",
     "output_type": "stream",
     "text": [
      " \n",
      " \n",
      "Accuracy by poly kernel 0.6371259952762403\n"
     ]
    },
    {
     "data": {
      "image/png": "[encoded data removed]",
      "text/plain": [
       "<Figure size 432x288 with 1 Axes>"
      ]
     },
     "metadata": {
      "needs_background": "light"
     },
     "output_type": "display_data"
    },
    {
     "name": "stdout",
     "output_type": "stream",
     "text": [
      " \n",
      " \n"
     ]
    }
   ],
   "source": [
    "from sklearn.svm import SVR\n",
    "from sklearn.metrics import r2_score\n",
    "\n",
    "for i in kernel:\n",
    "    #MODEL TRAINING\n",
    "    svr= SVR(kernel = i)\n",
    "    svr.fit(x, y.ravel())\n",
    "    \n",
    "    #PREDICTING THE ACCURACY\n",
    "    y_pred = sc_y.inverse_transform(svr.predict(sc_X.transform(x_data)))\n",
    "    acc=r2_score(y_data, y_pred)\n",
    "    \n",
    "    print(\"Accuracy by \"+i+\" kernel\",acc)\n",
    "    \n",
    "    #VISUALISATION\n",
    "    plt.scatter(sc_X.inverse_transform(x), sc_y.inverse_transform(y), color = 'red')\n",
    "    plt.plot(sc_X.inverse_transform(x), sc_y.inverse_transform(svr.predict(x)), color = 'blue')\n",
    "    plt.title('SVR - '+i)\n",
    "    plt.xlabel('Year of Experience')\n",
    "    plt.ylabel('Salary')\n",
    "    plt.show()\n",
    "    print(\" \")\n",
    "    print(\" \")\n",
    "    "
   ]
  },
  {
   "cell_type": "markdown",
   "id": "86dd4793",
   "metadata": {},
   "source": [
    "### It can be concluded that highest accuracy is obtained using rbf kernel (97.49%) followed by linear kernel (96.48%) and poly kernel (63.71%)."
   ]
  },
  {
   "cell_type": "code",
   "execution_count": null,
   "id": "8eda02ea",
   "metadata": {},
   "outputs": [],
   "source": []
  }
 ],
 "metadata": {
  "kernelspec": {
   "display_name": "Python 3 (ipykernel)",
   "language": "python",
   "name": "python3"
  },
  "language_info": {
   "codemirror_mode": {
    "name": "ipython",
    "version": 3
   },
   "file_extension": ".py",
   "mimetype": "text/x-python",
   "name": "python",
   "nbconvert_exporter": "python",
   "pygments_lexer": "ipython3",
   "version": "3.9.7"
  }
 },
 "nbformat": 4,
 "nbformat_minor": 5
}
